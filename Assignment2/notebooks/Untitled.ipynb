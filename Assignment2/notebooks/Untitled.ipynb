{
 "cells": [
  {
   "cell_type": "code",
   "execution_count": 2,
   "metadata": {
    "collapsed": true
   },
   "outputs": [],
   "source": [
    "% matplotlib inline"
   ]
  },
  {
   "cell_type": "code",
   "execution_count": 3,
   "metadata": {
    "collapsed": false
   },
   "outputs": [
    {
     "name": "stdout",
     "output_type": "stream",
     "text": [
      "hist_SeriousDlqin2yrs.png created\n",
      "RevolvingUtilizationOfUnsecuredLines contains 125728 values: too many to chart\n",
      "hist_age.png created\n",
      "hist_NumberOfTime30-59DaysPastDueNotWorse.png created\n",
      "DebtRatio contains 114194 values: too many to chart\n",
      "MonthlyIncome contains 13594 values: too many to chart\n",
      "hist_NumberOfOpenCreditLinesAndLoans.png created\n",
      "hist_NumberOfTimes90DaysLate.png created\n",
      "hist_NumberRealEstateLoansOrLines.png created\n",
      "hist_NumberOfTime60-89DaysPastDueNotWorse.png created\n",
      "hist_NumberOfDependents.png created\n",
      "summary_stats.csv created\n",
      "cs-training_fillna_mean.csv created\n",
      "hist_table RevolvingUtilizationOfUnsecuredLines created\n",
      "hist_table DebtRatio created\n",
      "hist_table MonthlyIncome created\n"
     ]
    }
   ],
   "source": [
    "run run_model.py"
   ]
  },
  {
   "cell_type": "code",
   "execution_count": 4,
   "metadata": {
    "collapsed": false
   },
   "outputs": [
    {
     "data": {
      "text/plain": [
       "Index(['SeriousDlqin2yrs', 'RevolvingUtilizationOfUnsecuredLines', 'age',\n",
       "       'NumberOfTime30-59DaysPastDueNotWorse', 'DebtRatio', 'MonthlyIncome',\n",
       "       'NumberOfOpenCreditLinesAndLoans', 'NumberOfTimes90DaysLate',\n",
       "       'NumberRealEstateLoansOrLines', 'NumberOfTime60-89DaysPastDueNotWorse',\n",
       "       'NumberOfDependents'],\n",
       "      dtype='object')"
      ]
     },
     "execution_count": 4,
     "metadata": {},
     "output_type": "execute_result"
    }
   ],
   "source": [
    "df.columns"
   ]
  },
  {
   "cell_type": "code",
   "execution_count": 7,
   "metadata": {
    "collapsed": false
   },
   "outputs": [
    {
     "name": "stderr",
     "output_type": "stream",
     "text": [
      "/usr/local/lib/python3.5/dist-packages/ipykernel/__main__.py:1: FutureWarning: \n",
      "The default value for 'return_type' will change to 'axes' in a future release.\n",
      " To use the future behavior now, set return_type='axes'.\n",
      " To keep the previous behavior and silence this warning, set return_type='dict'.\n",
      "  if __name__ == '__main__':\n"
     ]
    },
    {
     "data": {
      "text/plain": [
       "{'boxes': [<matplotlib.lines.Line2D at 0x7fcca7aac4e0>],\n",
       " 'caps': [<matplotlib.lines.Line2D at 0x7fcca7aafb00>,\n",
       "  <matplotlib.lines.Line2D at 0x7fcca7ab3f98>],\n",
       " 'fliers': [<matplotlib.lines.Line2D at 0x7fcca7ab86a0>],\n",
       " 'means': [],\n",
       " 'medians': [<matplotlib.lines.Line2D at 0x7fcca7ab3c88>],\n",
       " 'whiskers': [<matplotlib.lines.Line2D at 0x7fcca7aac3c8>,\n",
       "  <matplotlib.lines.Line2D at 0x7fcca7aacd30>]}"
      ]
     },
     "execution_count": 7,
     "metadata": {},
     "output_type": "execute_result"
    },
    {
     "data": {
      "image/png": "[encoded data removed]",
      "text/plain": [
       "<matplotlib.figure.Figure at 0x7fcca7c10748>"
      ]
     },
     "metadata": {},
     "output_type": "display_data"
    }
   ],
   "source": [
    "df.boxplot(column = 'MonthlyIncome')"
   ]
  },
  {
   "cell_type": "code",
   "execution_count": null,
   "metadata": {
    "collapsed": true
   },
   "outputs": [],
   "source": []
  }
 ],
 "metadata": {
  "kernelspec": {
   "display_name": "Python 3",
   "language": "python",
   "name": "python3"
  },
  "language_info": {
   "codemirror_mode": {
    "name": "ipython",
    "version": 3
   },
   "file_extension": ".py",
   "mimetype": "text/x-python",
   "name": "python",
   "nbconvert_exporter": "python",
   "pygments_lexer": "ipython3",
   "version": "3.5.1"
  }
 },
 "nbformat": 4,
 "nbformat_minor": 0
}
