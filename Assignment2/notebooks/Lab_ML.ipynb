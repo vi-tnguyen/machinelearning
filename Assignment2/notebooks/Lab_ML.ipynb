{
 "cells": [
  {
   "cell_type": "code",
   "execution_count": 8,
   "metadata": {
    "collapsed": false
   },
   "outputs": [],
   "source": [
    "%matplotlib inline \n",
    "import numpy as np\n",
    "from scipy.special import expit\n",
    "from IPython.display import Image"
   ]
  },
  {
   "cell_type": "code",
   "execution_count": 6,
   "metadata": {
    "collapsed": true
   },
   "outputs": [],
   "source": [
    "'''\n",
    "What is Machine Learning?\n",
    "    -we have some inputs X, and need to derive Y\n",
    "    -ML enables us to find some function, F, that lets us do the derivation\n",
    "     through a reasonably simple\n",
    "     \n",
    "Linear Regression\n",
    "    -how do you learn that function?\n",
    "        -try lots of lines, and penalize those that have big squared\n",
    "         residuals\n",
    "        -gradient descent\n",
    "            -minimize the loss function (sum of the squared residuals)\n",
    "            -pick a beta at random\n",
    "            -move the beta in the direction of the min of the loss function\n",
    "                -some algorithms (Theano, Tensorflow) that enable us to \n",
    "                 edit the loss function; scikitlearn won't let us do that\n",
    "            -powers a lot of machine learning algorithm\n",
    "SVM & Logistic Regression (small differences in how they're trained, and\n",
    "their loss functions; lasso algorithms)\n",
    "Classification\n",
    "    -outcomes classified as 0 or 1, or -1 or 1\n",
    "    -False positive (we said it was positive, but it was negative)\n",
    "    -False negative (we said it was negative, but it was positive)\n",
    "    -Loss functions: how do we want to penalize false positives and \n",
    "     false negatives\n",
    "         - 0/1 loss (doesn't matter what your confidence was) = accuracy\n",
    "             -important in real life b/c you are taking action after \n",
    "               a certain threshold\n",
    "             -algorithm cannot use because derivative of flat line is 0\n",
    "         -logistic loss (?) function (we care about confidence, even when\n",
    "          we are correct, we want increased confidence) (curved function)\n",
    "         -SVM loss function (linear SVM) we penalize you for being confident\n",
    "          and wrong, but linearly. And past some point of being correct, we\n",
    "          don't care about more confidence (the support vectors are the \n",
    "          values ones with positive y-values of the loss function) \n",
    "Decision Trees\n",
    "    -depth changes how many divisions it makes; enables you to control its\n",
    "     overfitting\n",
    "    -greedy algorithm looks at the whole dataset; not every combination\n",
    "    -doesn't do well when it needs split by both x & y axis\n",
    "    -no feature selection needed\n",
    "SVM Linear\n",
    "    -no feature selection needed\n",
    "SVM Kernel - nonparametric model; good at describing complicated decision\n",
    "surfaces\n",
    "    -C: the higher the value, the less regularization (i.e. the more\n",
    "    clusters, the higher c otherwise we risk underfitting and vice veyrsa)\n",
    "    -no feature selection needed\n",
    "Naive Bayes - super simple; no paramaters to fine-tune\n",
    "    -no feature selection needed\n",
    "K Nearest neighbor\n",
    "    -define the # of neighbors; the higher the more expensive it'll be\n",
    "    -expensive algorithm in general\n",
    "    -values of features matter (age and income in cents will be problematic;\n",
    "    it means age will never play a role); need to standardize the scale\n",
    "        -standardize based on quartiles \n",
    "    -need to select features (decision tree can help with this)\n",
    "Logistic Regression\n",
    "    -there's backward/forward variable selection\n",
    "        -forward: check each feature, which one reduces the variance the most \n",
    "         and build model forward (greedy algorithm)\n",
    "     -LASSO has a built in variable selection (penalty for model complexity)\n",
    "'''"
   ]
  },
  {
   "cell_type": "code",
   "execution_count": null,
   "metadata": {
    "collapsed": true
   },
   "outputs": [],
   "source": []
  }
 ],
 "metadata": {
  "kernelspec": {
   "display_name": "Python 3",
   "language": "python",
   "name": "python3"
  },
  "language_info": {
   "codemirror_mode": {
    "name": "ipython",
    "version": 3
   },
   "file_extension": ".py",
   "mimetype": "text/x-python",
   "name": "python",
   "nbconvert_exporter": "python",
   "pygments_lexer": "ipython3",
   "version": "3.5.1"
  }
 },
 "nbformat": 4,
 "nbformat_minor": 0
}
